{
 "cells": [
  {
   "cell_type": "code",
   "execution_count": null,
   "metadata": {},
   "outputs": [],
   "source": [
    "import flask\n",
    "from flask import make_response, jsonify\n",
    "import json\n",
    "from typing import Union, Any, Dict\n",
    "from plaid import ApiException\n",
    "from plaid.model.item_public_token_exchange_request import \\\n",
    "    ItemPublicTokenExchangeRequest\n",
    "from plaid.model.item_public_token_exchange_response import \\\n",
    "    ItemPublicTokenExchangeResponse\n",
    "\n",
    "from test_configuration import plaid_client, firestore_client"
   ]
  },
  {
   "cell_type": "code",
   "execution_count": null,
   "metadata": {},
   "outputs": [],
   "source": [
    "def public_token_exchange(public_token: str) -> Dict[str, Any]:\n",
    "    try:\n",
    "        # Make Request to exchange `public_token` to `access_token`\n",
    "        request = ItemPublicTokenExchangeRequest(public_token)\n",
    "        response: ItemPublicTokenExchangeResponse = plaid_client.item_public_token_exchange(\n",
    "            request\n",
    "        )\n",
    "\n",
    "        return response.to_dict()\n",
    "    except ApiException as e:\n",
    "        exceptions: dict = json.loads(e.body)\n",
    "        return exceptions"
   ]
  },
  {
   "cell_type": "code",
   "execution_count": null,
   "metadata": {},
   "outputs": [],
   "source": [
    "def link_and_create_update_mode(request: flask.Request):\n",
    "    # TODO: for release\n",
    "    # Parsing data from request to get `uid` and `public_token`\n",
    "    data_dict: dict = json.loads(request.data)\n",
    "    public_token: Union[str, None] = data_dict.get('public_token')\n",
    "    uid: Union[str, None] = data_dict.get('uid')\n",
    "\n",
    "    if (public_token and uid) is None:\n",
    "        return make_response(jsonify(error_code=404, error_message='Please pass the right data in request'), 404)\n",
    "    \n",
    "    # 1. Get access_token by using `item_public_token_exchange`\n",
    "    token_exchange_response = public_token_exchange(public_token)\n",
    "    # TODO: change the data passed from `institution_id` to `public_token`\n",
    "\n",
    "    # access_token = token_exchange_response.get('access_token')\n",
    "    return token_exchange_response\n"
   ]
  }
 ],
 "metadata": {
  "language_info": {
   "name": "python"
  },
  "orig_nbformat": 4
 },
 "nbformat": 4,
 "nbformat_minor": 2
}
