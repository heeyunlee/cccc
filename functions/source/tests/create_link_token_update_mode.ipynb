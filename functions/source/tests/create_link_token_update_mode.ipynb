{
 "cells": [
  {
   "cell_type": "code",
   "execution_count": null,
   "metadata": {},
   "outputs": [],
   "source": [
    "from typing import Dict, Any, Union\n",
    "import json\n",
    "from plaid.api import plaid_api\n",
    "from plaid.model.country_code import CountryCode\n",
    "from plaid.model.link_token_create_request_user import LinkTokenCreateRequestUser\n",
    "from test_configuration import plaid_client, firestore_client\n",
    "from plaid import ApiException\n",
    "\n",
    "from plaid.model.sandbox_item_reset_login_request import SandboxItemResetLoginRequest\n",
    "from plaid.model.sandbox_item_reset_login_response import SandboxItemResetLoginResponse\n",
    "\n",
    "from google.cloud.firestore import CollectionReference"
   ]
  },
  {
   "cell_type": "code",
   "execution_count": null,
   "metadata": {},
   "outputs": [],
   "source": [
    "def get_access_token_to_update(uid: str, institution_id: str):\n",
    "    try:\n",
    "        user_ref = firestore_client.collection('users').document(uid)\n",
    "        secrets_ref: CollectionReference = user_ref.collection('secrets')\n",
    "        plaid_secrets_ref = secrets_ref.document('plaid')\n",
    "        plaid_secrets_dict = plaid_secrets_ref.get().to_dict()\n",
    "        access_tokens: Union[Dict, None] = plaid_secrets_dict.get('access_tokens')\n",
    "        access_token = access_tokens.get(institution_id)\n",
    "\n",
    "        return {'status': 200, 'access_token': access_token}\n",
    "    except Exception as e:\n",
    "        return {'status': 404, 'error_message': str(e)}"
   ]
  },
  {
   "cell_type": "code",
   "execution_count": null,
   "metadata": {},
   "outputs": [],
   "source": [
    "''' Force a Sandbox Item into an error state\n",
    "\n",
    "    `/sandbox/item/reset_login/` forces an Item into an `ITEM_LOGIN_REQUIRED` \n",
    "    state in order to simulate an Item whose login is no longer valid. This makes \n",
    "    it easy to test Link's update mode flow in the Sandbox environment. After calling \n",
    "    `/sandbox/item/reset_login`, You can then use Plaid Link update mode to restore \n",
    "    the Item to a good state. An `ITEM_LOGIN_REQUIRED` webhook will also be fired \n",
    "    after a call to this endpoint, if one is associated with the Item.\n",
    "\n",
    "    In the Sandbox, Items will transition to an `ITEM_LOGIN_REQUIRED` error state \n",
    "    automatically after 30 days, even if this endpoint is not called.\n",
    "'''\n",
    "\n",
    "\n",
    "def sandbox_item_reset_login(access_token: str):\n",
    "    try:\n",
    "        request = SandboxItemResetLoginRequest(access_token)\n",
    "        response: SandboxItemResetLoginResponse = plaid_client.sandbox_item_reset_login(\n",
    "            request\n",
    "        )\n",
    "        return response.to_dict()\n",
    "    except ApiException as e:\n",
    "        exceptions: dict = json.loads(e.body)\n",
    "        return exceptions"
   ]
  },
  {
   "cell_type": "code",
   "execution_count": null,
   "metadata": {},
   "outputs": [],
   "source": [
    "sandbox_item_reset_login('access_token')"
   ]
  },
  {
   "cell_type": "code",
   "execution_count": null,
   "metadata": {},
   "outputs": [],
   "source": [
    "def link_token_create_update_mode(data: Dict) -> Dict[str, Any]:\n",
    "    # TODO: ^change the data type to flask.Request for release\n",
    "\n",
    "    # # TODO: for development\n",
    "    # # Get `uid` and `institution_id` from request\n",
    "    # data_dict: dict = json.loads(request.data)\n",
    "    # uid = data_dict.get('uid')\n",
    "    # institution_id = data_dict.get('institution_id')\n",
    "\n",
    "    # TODO: for sandbox\n",
    "    uid = data.get('uid')\n",
    "    institution_id = data.get('institution_id')\n",
    "\n",
    "    if (uid and institution_id) is None:\n",
    "        return {'status': 404, 'error_message': 'Either access_token, uid, institution_id was None. Please send the data correctly'}\n",
    "        \n",
    "    access_token_response = get_access_token_to_update(uid, institution_id)\n",
    "    access_token = access_token_response.get('access_token')\n",
    "    \n",
    "    if access_token is None:\n",
    "        return {'status': 404, 'error_message': access_token_response.get('error_message')}\n",
    "\n",
    "    try:\n",
    "        # Create Link Token Request\n",
    "        request = plaid_api.LinkTokenCreateRequest(\n",
    "            client_name='CCCC',\n",
    "            language='en',\n",
    "            access_token = access_token,\n",
    "            country_codes=[CountryCode('US')],\n",
    "            user=LinkTokenCreateRequestUser(client_user_id=uid)\n",
    "        )\n",
    "        response: plaid_api.LinkTokenCreateResponse = plaid_client.link_token_create(request)\n",
    "\n",
    "        return response.to_dict()\n",
    "    except ApiException as e:\n",
    "        return json.loads(e.body)\n"
   ]
  },
  {
   "cell_type": "code",
   "execution_count": null,
   "metadata": {},
   "outputs": [],
   "source": [
    "data = {\n",
    "    'uid': 'uid',\n",
    "    'institution_id': 'ins_10'\n",
    "}\n",
    "\n",
    "link_token_create_update_mode(data)"
   ]
  }
 ],
 "metadata": {
  "interpreter": {
   "hash": "ed7cf9a39b27818acd42e7966255cfb8e91c0a4a346a1bf836e8b24b6cdfba19"
  },
  "kernelspec": {
   "display_name": "Python 3.8.5 64-bit ('base': conda)",
   "language": "python",
   "name": "python3"
  },
  "language_info": {
   "codemirror_mode": {
    "name": "ipython",
    "version": 3
   },
   "file_extension": ".py",
   "mimetype": "text/x-python",
   "name": "python",
   "nbconvert_exporter": "python",
   "pygments_lexer": "ipython3",
   "version": "3.8.5"
  },
  "orig_nbformat": 4
 },
 "nbformat": 4,
 "nbformat_minor": 2
}
