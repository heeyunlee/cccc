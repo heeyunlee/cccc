{
 "cells": [
  {
   "cell_type": "code",
   "execution_count": null,
   "metadata": {},
   "outputs": [],
   "source": [
    "from test_configuration import firestore_client, plaid_client\n",
    "from plaid.model.institutions_get_by_id_request import InstitutionsGetByIdRequest\n",
    "from plaid.model.institutions_get_by_id_response import InstitutionsGetByIdResponse\n",
    "from plaid.model.institutions_get_by_id_request_options import InstitutionsGetByIdRequestOptions\n",
    "from plaid.model.institutions_get_request import InstitutionsGetRequest\n",
    "from plaid.model.institutions_get_request_options import InstitutionsGetRequestOptions\n",
    "from plaid.model.institutions_get_response import InstitutionsGetResponse\n",
    "from plaid.model.country_code import CountryCode\n",
    "from plaid import ApiException\n",
    "import json\n",
    "from typing import Union, Dict"
   ]
  },
  {
   "cell_type": "code",
   "execution_count": null,
   "metadata": {},
   "outputs": [],
   "source": [
    "def institutions_get_by_id(institution_id: str):\n",
    "    try:\n",
    "        options = InstitutionsGetByIdRequestOptions(\n",
    "            include_optional_metadata=True,\n",
    "        )\n",
    "        request = InstitutionsGetByIdRequest(\n",
    "            institution_id=institution_id,\n",
    "            country_codes=[CountryCode('US')],\n",
    "            options=options,\n",
    "        )\n",
    "        response: InstitutionsGetByIdResponse = plaid_client.institutions_get_by_id(request)\n",
    "        response_dict = response.to_dict()\n",
    "\n",
    "        return response_dict\n",
    "    except ApiException as e:\n",
    "        exceptions: dict = json.loads(e.body)\n",
    "\n",
    "        return exceptions"
   ]
  },
  {
   "cell_type": "code",
   "execution_count": null,
   "metadata": {},
   "outputs": [],
   "source": [
    "def institutions_get(count:int, offset: int):\n",
    "    try:\n",
    "        options = InstitutionsGetRequestOptions(\n",
    "            include_optional_metadata=True,\n",
    "        )\n",
    "        request = InstitutionsGetRequest(\n",
    "            country_codes=[CountryCode('US')],\n",
    "            count=count,\n",
    "            offset=offset,\n",
    "            options=options,\n",
    "\n",
    "        )\n",
    "        response: InstitutionsGetResponse = plaid_client.institutions_get(request)\n",
    "        response_dict = response.to_dict()\n",
    "\n",
    "        return response_dict\n",
    "    except ApiException as e:\n",
    "        exceptions: dict = json.loads(e.body)\n",
    "\n",
    "        return exceptions"
   ]
  },
  {
   "cell_type": "code",
   "execution_count": null,
   "metadata": {},
   "outputs": [],
   "source": [
    "def update_institution(request: Dict):\n",
    "    # TODO: ^change the type of request to `flask.Request`\n",
    "\n",
    "    try:\n",
    "        # TODO: uncomment for the release\n",
    "        # data = request.data\n",
    "        # data_dict: dict = json.loads(data)\n",
    "        # institution_id = data_dict.get('institution_id')\n",
    "        institution_id = request.get('institution_id')\n",
    "        institutions_get_result = institutions_get_by_id(institution_id)\n",
    "        institution: Union[Dict, None] = institutions_get_result.get('institution')\n",
    "\n",
    "        if institution is None:\n",
    "            error_code = institutions_get_result.get('error_code')\n",
    "            error_message = institutions_get_result.get('error_message')\n",
    "\n",
    "            # TODO: uncomment below for release\n",
    "            # return make_response(jsonify(status=error_code, error_message=error_message), 404)\n",
    "            return {'status': error_code, 'error_message': error_message}\n",
    "\n",
    "        # if fetched institution data exists, either create or update firestore data\n",
    "        institution_collections = firestore_client.collection('institutions')\n",
    "        institution_doc = institution_collections.document(institution_id)\n",
    "        institution_snapshot = institution_doc.get()\n",
    "\n",
    "        if institution_snapshot.exists:\n",
    "            institution_doc.update(institution)\n",
    "        else:\n",
    "            institution_doc.create(institution)\n",
    "        \n",
    "        # TODO: uncomment below for release\n",
    "        # return make_response(jsonify(status=200,message='Successfully updated institution data'))\n",
    "\n",
    "        return 'Created new institution document'\n",
    "    except Exception as e:\n",
    "        print(str(e))\n",
    "\n",
    "        # TODO: uncomment below for release\n",
    "        # return make_response(jsonify(status=404, error_message=str(e)), 404)"
   ]
  },
  {
   "cell_type": "code",
   "execution_count": null,
   "metadata": {},
   "outputs": [],
   "source": []
  },
  {
   "cell_type": "code",
   "execution_count": null,
   "metadata": {},
   "outputs": [],
   "source": [
    "# data = {'institution_id': 'ins_3'}\n",
    "# result = update_institution(data)\n",
    "# result\n",
    "\n",
    "institutions_get_by_id('ins_3')\n",
    "# institutions_get(10,0)"
   ]
  }
 ],
 "metadata": {
  "interpreter": {
   "hash": "ed7cf9a39b27818acd42e7966255cfb8e91c0a4a346a1bf836e8b24b6cdfba19"
  },
  "kernelspec": {
   "display_name": "Python 3.8.5 64-bit ('base': conda)",
   "language": "python",
   "name": "python3"
  },
  "language_info": {
   "codemirror_mode": {
    "name": "ipython",
    "version": 3
   },
   "file_extension": ".py",
   "mimetype": "text/x-python",
   "name": "python",
   "nbconvert_exporter": "python",
   "pygments_lexer": "ipython3",
   "version": "3.8.5"
  },
  "orig_nbformat": 4
 },
 "nbformat": 4,
 "nbformat_minor": 2
}
