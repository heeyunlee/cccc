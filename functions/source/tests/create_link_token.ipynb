{
 "cells": [
  {
   "cell_type": "code",
   "execution_count": null,
   "metadata": {},
   "outputs": [],
   "source": [
    "import json\n",
    "from typing import Any, Dict, Union\n",
    "\n",
    "import flask\n",
    "from plaid import ApiException\n",
    "from plaid.api import plaid_api\n",
    "from plaid.model.country_code import CountryCode\n",
    "from plaid.model.link_token_create_request_user import \\\n",
    "    LinkTokenCreateRequestUser\n",
    "from plaid.model.products import Products\n",
    "from test_configuration import plaid_client"
   ]
  },
  {
   "cell_type": "code",
   "execution_count": null,
   "metadata": {},
   "outputs": [],
   "source": [
    "\n",
    "def create_link_token(request: Dict) -> Dict[str, Any]:\n",
    "    # TODO: ^change request data type to flask.Request\n",
    "\n",
    "    # TODO: uncomment for release\n",
    "    # # Get UID from request\n",
    "    # data = request.data\n",
    "    # data_dict: dict = json.loads(data)\n",
    "    # uid: Union[str, None] = data_dict.get('uid')\n",
    "\n",
    "    uid = request.get('uid')\n",
    "\n",
    "    if uid is None:\n",
    "        return {'status': 404, 'error_message': 'uid was None'}\n",
    "\n",
    "    try:\n",
    "        # Create Link Token Request\n",
    "        request = plaid_api.LinkTokenCreateRequest(\n",
    "            products=[Products('transactions')],\n",
    "            client_name=\"CCCC\",\n",
    "            language='en',\n",
    "            country_codes=[CountryCode('US')],\n",
    "            user=LinkTokenCreateRequestUser(client_user_id=uid)\n",
    "        )\n",
    "        print(f'link_token_create_request: \\n{request}')\n",
    "\n",
    "        # Create Link Token Response\n",
    "        response: plaid_api.LinkTokenCreateResponse = plaid_client.link_token_create(\n",
    "            request\n",
    "        )\n",
    "        print(f'link_token_create response: \\n{response}')\n",
    "\n",
    "        response_dict = response.to_dict()\n",
    "\n",
    "        return response_dict\n",
    "    except ApiException as e:\n",
    "        exceptions: dict = json.loads(e.body)\n",
    "\n",
    "        return exceptions\n"
   ]
  },
  {
   "cell_type": "code",
   "execution_count": null,
   "metadata": {},
   "outputs": [],
   "source": [
    "data = {\n",
    "    'uid': 'uid',\n",
    "}\n",
    "create_link_token(data)"
   ]
  }
 ],
 "metadata": {
  "interpreter": {
   "hash": "ed7cf9a39b27818acd42e7966255cfb8e91c0a4a346a1bf836e8b24b6cdfba19"
  },
  "kernelspec": {
   "display_name": "Python 3.8.5 64-bit ('base': conda)",
   "language": "python",
   "name": "python3"
  },
  "language_info": {
   "codemirror_mode": {
    "name": "ipython",
    "version": 3
   },
   "file_extension": ".py",
   "mimetype": "text/x-python",
   "name": "python",
   "nbconvert_exporter": "python",
   "pygments_lexer": "ipython3",
   "version": "3.8.5"
  },
  "orig_nbformat": 4
 },
 "nbformat": 4,
 "nbformat_minor": 2
}
