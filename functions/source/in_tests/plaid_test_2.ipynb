{
 "cells": [
  {
   "cell_type": "code",
   "execution_count": null,
   "metadata": {},
   "outputs": [],
   "source": [
    "import flask\n",
    "from flask import jsonify, make_response\n",
    "from plaid.api import plaid_api\n",
    "from plaid.model.country_code import CountryCode\n",
    "from plaid.model.link_token_create_request_user import \\\n",
    "    LinkTokenCreateRequestUser\n",
    "import datetime\n",
    "import json\n",
    "import plaid\n",
    "from google.cloud import firestore\n",
    "from plaid.model.sandbox_item_reset_login_request import SandboxItemResetLoginRequest\n",
    "from plaid.model.sandbox_public_token_create_request import SandboxPublicTokenCreateRequest\n",
    "from plaid.model.sandbox_public_token_create_response import SandboxPublicTokenCreateResponse\n",
    "from plaid.model.item_public_token_exchange_request import ItemPublicTokenExchangeRequest\n",
    "from plaid.model.item_public_token_exchange_response import ItemPublicTokenExchangeResponse\n",
    "from plaid.model.accounts_balance_get_request import AccountsBalanceGetRequest\n",
    "from plaid.model.accounts_balance_get_request_options import AccountsBalanceGetRequestOptions\n",
    "from plaid.model.accounts_get_response import AccountsGetResponse\n",
    "from plaid.model.accounts_get_request import AccountsGetRequest\n",
    "from plaid.model.accounts_get_request_options import AccountsGetRequestOptions\n",
    "from plaid.model.products import Products\n",
    "from typing import List\n",
    "from google.cloud.firestore_v1.document import DocumentReference\n",
    "from google.cloud.firestore_v1.types import WriteResult\n",
    "from source.configuration import plaid_client"
   ]
  },
  {
   "cell_type": "code",
   "execution_count": null,
   "metadata": {},
   "outputs": [],
   "source": [
    "def recreate_link_token(data: dict):\n",
    "    # Create Link Token Request\n",
    "    request = plaid_api.LinkTokenCreateRequest(\n",
    "        access_token=data['access_token'],\n",
    "        client_name=\"CCCC\",\n",
    "        language='en',\n",
    "        country_codes=[CountryCode('US')],\n",
    "        user=LinkTokenCreateRequestUser(\n",
    "            client_user_id=data['uid'],\n",
    "        )\n",
    "    )\n",
    "\n",
    "    print(f'recreate_link_token request: {request}')\n",
    "\n",
    "    # Create Link Token Response\n",
    "    response: plaid_api.LinkTokenCreateResponse = plaid_client.link_token_create(\n",
    "        request\n",
    "    )\n",
    "    print(f'LinkTokenCreateResponse: {response}')\n",
    "\n",
    "    return response"
   ]
  }
 ],
 "metadata": {
  "language_info": {
   "name": "python"
  },
  "orig_nbformat": 4
 },
 "nbformat": 4,
 "nbformat_minor": 2
}
